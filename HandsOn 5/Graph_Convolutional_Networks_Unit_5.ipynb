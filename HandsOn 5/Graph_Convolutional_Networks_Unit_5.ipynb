{
  "nbformat": 4,
  "nbformat_minor": 0,
  "metadata": {
    "colab": {
      "name": "Graph Convolutional Networks Unit 5",
      "provenance": []
    },
    "kernelspec": {
      "name": "python3",
      "display_name": "Python 3"
    },
    "language_info": {
      "name": "python"
    }
  },
  "cells": [
    {
      "cell_type": "markdown",
      "source": [
        "# SEMI-SUPERVISED CLASSIFICATION WITH GRAPH CONVOLUTIONAL NETWORKS\n"
      ],
      "metadata": {
        "id": "gwpuslwacpZC"
      }
    },
    {
      "cell_type": "markdown",
      "source": [
        "**Name** - B Pravena\n",
        "\n",
        "**SRN** - PES2UG19CS076\n",
        "\n",
        "**Section** - B"
      ],
      "metadata": {
        "id": "bemjfvHYcr6C"
      }
    },
    {
      "cell_type": "markdown",
      "source": [
        "Dataset used is **CORA**.\n",
        "\n",
        "The Cora dataset consists of 2708 scientific publications classified into one of seven classes. \n",
        "\n",
        "The citation network consists of 5429 links. \n",
        "\n",
        "Each publication in the dataset is described by a 0/1-valued word vector indicating the absence/presence of the corresponding word from the dictionary."
      ],
      "metadata": {
        "id": "mieQzTd7c303"
      }
    },
    {
      "cell_type": "code",
      "source": [
        "from google.colab import drive\n",
        "drive.mount('/content/gdrive')"
      ],
      "metadata": {
        "colab": {
          "base_uri": "https://localhost:8080/"
        },
        "id": "kQXkyzyRda5P",
        "outputId": "74e91d57-81bb-4dd2-c1b8-b6729432fb4a"
      },
      "execution_count": 1,
      "outputs": [
        {
          "output_type": "stream",
          "name": "stdout",
          "text": [
            "Drive already mounted at /content/gdrive; to attempt to forcibly remount, call drive.mount(\"/content/gdrive\", force_remount=True).\n"
          ]
        }
      ]
    },
    {
      "cell_type": "markdown",
      "source": [
        "#Installing and importing Dependencies"
      ],
      "metadata": {
        "id": "Iv4QZX9neMy1"
      }
    },
    {
      "cell_type": "code",
      "source": [
        "!pip install tensorflow==2.3 spektral==0.6.1"
      ],
      "metadata": {
        "colab": {
          "base_uri": "https://localhost:8080/"
        },
        "id": "AemiR5iZdwvv",
        "outputId": "b9545b64-53aa-441f-f054-f92c27b6ddf5"
      },
      "execution_count": 2,
      "outputs": [
        {
          "output_type": "stream",
          "name": "stdout",
          "text": [
            "Requirement already satisfied: tensorflow==2.3 in /usr/local/lib/python3.7/dist-packages (2.3.0)\n",
            "Requirement already satisfied: spektral==0.6.1 in /usr/local/lib/python3.7/dist-packages (0.6.1)\n",
            "Requirement already satisfied: gast==0.3.3 in /usr/local/lib/python3.7/dist-packages (from tensorflow==2.3) (0.3.3)\n",
            "Requirement already satisfied: astunparse==1.6.3 in /usr/local/lib/python3.7/dist-packages (from tensorflow==2.3) (1.6.3)\n",
            "Requirement already satisfied: google-pasta>=0.1.8 in /usr/local/lib/python3.7/dist-packages (from tensorflow==2.3) (0.2.0)\n",
            "Requirement already satisfied: wrapt>=1.11.1 in /usr/local/lib/python3.7/dist-packages (from tensorflow==2.3) (1.14.0)\n",
            "Requirement already satisfied: wheel>=0.26 in /usr/local/lib/python3.7/dist-packages (from tensorflow==2.3) (0.37.1)\n",
            "Requirement already satisfied: keras-preprocessing<1.2,>=1.1.1 in /usr/local/lib/python3.7/dist-packages (from tensorflow==2.3) (1.1.2)\n",
            "Requirement already satisfied: tensorflow-estimator<2.4.0,>=2.3.0 in /usr/local/lib/python3.7/dist-packages (from tensorflow==2.3) (2.3.0)\n",
            "Requirement already satisfied: h5py<2.11.0,>=2.10.0 in /usr/local/lib/python3.7/dist-packages (from tensorflow==2.3) (2.10.0)\n",
            "Requirement already satisfied: tensorboard<3,>=2.3.0 in /usr/local/lib/python3.7/dist-packages (from tensorflow==2.3) (2.8.0)\n",
            "Requirement already satisfied: six>=1.12.0 in /usr/local/lib/python3.7/dist-packages (from tensorflow==2.3) (1.15.0)\n",
            "Requirement already satisfied: termcolor>=1.1.0 in /usr/local/lib/python3.7/dist-packages (from tensorflow==2.3) (1.1.0)\n",
            "Requirement already satisfied: scipy==1.4.1 in /usr/local/lib/python3.7/dist-packages (from tensorflow==2.3) (1.4.1)\n",
            "Requirement already satisfied: grpcio>=1.8.6 in /usr/local/lib/python3.7/dist-packages (from tensorflow==2.3) (1.44.0)\n",
            "Requirement already satisfied: absl-py>=0.7.0 in /usr/local/lib/python3.7/dist-packages (from tensorflow==2.3) (1.0.0)\n",
            "Requirement already satisfied: protobuf>=3.9.2 in /usr/local/lib/python3.7/dist-packages (from tensorflow==2.3) (3.17.3)\n",
            "Requirement already satisfied: numpy<1.19.0,>=1.16.0 in /usr/local/lib/python3.7/dist-packages (from tensorflow==2.3) (1.18.5)\n",
            "Requirement already satisfied: opt-einsum>=2.3.2 in /usr/local/lib/python3.7/dist-packages (from tensorflow==2.3) (3.3.0)\n",
            "Requirement already satisfied: lxml in /usr/local/lib/python3.7/dist-packages (from spektral==0.6.1) (4.2.6)\n",
            "Requirement already satisfied: joblib in /usr/local/lib/python3.7/dist-packages (from spektral==0.6.1) (1.1.0)\n",
            "Requirement already satisfied: pandas in /usr/local/lib/python3.7/dist-packages (from spektral==0.6.1) (1.3.5)\n",
            "Requirement already satisfied: requests in /usr/local/lib/python3.7/dist-packages (from spektral==0.6.1) (2.23.0)\n",
            "Requirement already satisfied: scikit-learn in /usr/local/lib/python3.7/dist-packages (from spektral==0.6.1) (1.0.2)\n",
            "Requirement already satisfied: networkx in /usr/local/lib/python3.7/dist-packages (from spektral==0.6.1) (2.6.3)\n",
            "Requirement already satisfied: google-auth<3,>=1.6.3 in /usr/local/lib/python3.7/dist-packages (from tensorboard<3,>=2.3.0->tensorflow==2.3) (1.35.0)\n",
            "Requirement already satisfied: tensorboard-data-server<0.7.0,>=0.6.0 in /usr/local/lib/python3.7/dist-packages (from tensorboard<3,>=2.3.0->tensorflow==2.3) (0.6.1)\n",
            "Requirement already satisfied: markdown>=2.6.8 in /usr/local/lib/python3.7/dist-packages (from tensorboard<3,>=2.3.0->tensorflow==2.3) (3.3.6)\n",
            "Requirement already satisfied: setuptools>=41.0.0 in /usr/local/lib/python3.7/dist-packages (from tensorboard<3,>=2.3.0->tensorflow==2.3) (57.4.0)\n",
            "Requirement already satisfied: tensorboard-plugin-wit>=1.6.0 in /usr/local/lib/python3.7/dist-packages (from tensorboard<3,>=2.3.0->tensorflow==2.3) (1.8.1)\n",
            "Requirement already satisfied: werkzeug>=0.11.15 in /usr/local/lib/python3.7/dist-packages (from tensorboard<3,>=2.3.0->tensorflow==2.3) (1.0.1)\n",
            "Requirement already satisfied: google-auth-oauthlib<0.5,>=0.4.1 in /usr/local/lib/python3.7/dist-packages (from tensorboard<3,>=2.3.0->tensorflow==2.3) (0.4.6)\n",
            "Requirement already satisfied: rsa<5,>=3.1.4 in /usr/local/lib/python3.7/dist-packages (from google-auth<3,>=1.6.3->tensorboard<3,>=2.3.0->tensorflow==2.3) (4.8)\n",
            "Requirement already satisfied: cachetools<5.0,>=2.0.0 in /usr/local/lib/python3.7/dist-packages (from google-auth<3,>=1.6.3->tensorboard<3,>=2.3.0->tensorflow==2.3) (4.2.4)\n",
            "Requirement already satisfied: pyasn1-modules>=0.2.1 in /usr/local/lib/python3.7/dist-packages (from google-auth<3,>=1.6.3->tensorboard<3,>=2.3.0->tensorflow==2.3) (0.2.8)\n",
            "Requirement already satisfied: requests-oauthlib>=0.7.0 in /usr/local/lib/python3.7/dist-packages (from google-auth-oauthlib<0.5,>=0.4.1->tensorboard<3,>=2.3.0->tensorflow==2.3) (1.3.1)\n",
            "Requirement already satisfied: importlib-metadata>=4.4 in /usr/local/lib/python3.7/dist-packages (from markdown>=2.6.8->tensorboard<3,>=2.3.0->tensorflow==2.3) (4.11.3)\n",
            "Requirement already satisfied: typing-extensions>=3.6.4 in /usr/local/lib/python3.7/dist-packages (from importlib-metadata>=4.4->markdown>=2.6.8->tensorboard<3,>=2.3.0->tensorflow==2.3) (4.2.0)\n",
            "Requirement already satisfied: zipp>=0.5 in /usr/local/lib/python3.7/dist-packages (from importlib-metadata>=4.4->markdown>=2.6.8->tensorboard<3,>=2.3.0->tensorflow==2.3) (3.8.0)\n",
            "Requirement already satisfied: pyasn1<0.5.0,>=0.4.6 in /usr/local/lib/python3.7/dist-packages (from pyasn1-modules>=0.2.1->google-auth<3,>=1.6.3->tensorboard<3,>=2.3.0->tensorflow==2.3) (0.4.8)\n",
            "Requirement already satisfied: urllib3!=1.25.0,!=1.25.1,<1.26,>=1.21.1 in /usr/local/lib/python3.7/dist-packages (from requests->spektral==0.6.1) (1.24.3)\n",
            "Requirement already satisfied: idna<3,>=2.5 in /usr/local/lib/python3.7/dist-packages (from requests->spektral==0.6.1) (2.10)\n",
            "Requirement already satisfied: certifi>=2017.4.17 in /usr/local/lib/python3.7/dist-packages (from requests->spektral==0.6.1) (2021.10.8)\n",
            "Requirement already satisfied: chardet<4,>=3.0.2 in /usr/local/lib/python3.7/dist-packages (from requests->spektral==0.6.1) (3.0.4)\n",
            "Requirement already satisfied: oauthlib>=3.0.0 in /usr/local/lib/python3.7/dist-packages (from requests-oauthlib>=0.7.0->google-auth-oauthlib<0.5,>=0.4.1->tensorboard<3,>=2.3.0->tensorflow==2.3) (3.2.0)\n",
            "Requirement already satisfied: pytz>=2017.3 in /usr/local/lib/python3.7/dist-packages (from pandas->spektral==0.6.1) (2022.1)\n",
            "Requirement already satisfied: python-dateutil>=2.7.3 in /usr/local/lib/python3.7/dist-packages (from pandas->spektral==0.6.1) (2.8.2)\n",
            "Requirement already satisfied: threadpoolctl>=2.0.0 in /usr/local/lib/python3.7/dist-packages (from scikit-learn->spektral==0.6.1) (3.1.0)\n"
          ]
        }
      ]
    },
    {
      "cell_type": "code",
      "source": [
        "import numpy as np\n",
        "import os\n",
        "import networkx as nx\n",
        "from tensorflow.keras.utils import to_categorical\n",
        "from sklearn.preprocessing import LabelEncoder\n",
        "from sklearn.utils import shuffle\n",
        "from sklearn.metrics import classification_report\n",
        "\n",
        "import spektral\n",
        "from tensorflow import keras \n",
        "from tensorflow.python.ops import gen_sparse_ops\n",
        "from spektral.layers import GraphConv\n",
        "\n",
        "from tensorflow.keras.models import Model\n",
        "from tensorflow.keras.layers import Input, Dropout, Dense\n",
        "from tensorflow.keras import Sequential\n",
        "from tensorflow.keras.optimizers import Adam\n",
        "from tensorflow.keras.callbacks import TensorBoard, EarlyStopping\n",
        "import tensorflow as tf\n",
        "from tensorflow.keras.regularizers import l2"
      ],
      "metadata": {
        "id": "hz9ClX7neJKe"
      },
      "execution_count": 3,
      "outputs": []
    },
    {
      "cell_type": "code",
      "source": [
        ""
      ],
      "metadata": {
        "id": "pGVccRGcek8X"
      },
      "execution_count": 3,
      "outputs": []
    },
    {
      "cell_type": "markdown",
      "source": [
        "# Data Preprocessing"
      ],
      "metadata": {
        "id": "C3pUjpjPekg-"
      }
    },
    {
      "cell_type": "markdown",
      "source": [
        "In **cora.content** file -:\n",
        "\n",
        "The first element indicates the node name. \n",
        "The second until the last second elements indicate the node features.\n",
        "The last element indicates the label of that particular node.\n",
        "\n",
        "In **cora.cites** file -:\n",
        "\n",
        "Each line indicates the tuple of connected nodes"
      ],
      "metadata": {
        "id": "tCwTb9D0flpN"
      }
    },
    {
      "cell_type": "code",
      "source": [
        "#loading the data\n",
        "\n",
        "all_data = []\n",
        "all_edges = []\n",
        "\n",
        "for root,dirs,files in os.walk('/content/gdrive/MyDrive/cora'):\n",
        "    for file in files:\n",
        "        if '.content' in file:\n",
        "            with open(os.path.join(root,file),'r') as f:\n",
        "                all_data.extend(f.read().splitlines())\n",
        "        elif 'cites' in file:\n",
        "            with open(os.path.join(root,file),'r') as f:\n",
        "                all_edges.extend(f.read().splitlines())\n",
        "\n",
        "                \n",
        "#Data is shuffled because the raw data is ordered based on the label\n",
        "random_state = 77\n",
        "all_data = shuffle(all_data,random_state=random_state)"
      ],
      "metadata": {
        "id": "VhOaVIiAenPt"
      },
      "execution_count": 4,
      "outputs": []
    },
    {
      "cell_type": "code",
      "source": [
        ""
      ],
      "metadata": {
        "id": "k_7TglYVfdrL"
      },
      "execution_count": 4,
      "outputs": []
    },
    {
      "cell_type": "markdown",
      "source": [
        "# Parsing the Data"
      ],
      "metadata": {
        "id": "X1U0nFh0gOF1"
      }
    },
    {
      "cell_type": "code",
      "source": [
        "labels = []\n",
        "nodes = []\n",
        "X = []\n",
        "\n",
        "for i,data in enumerate(all_data):\n",
        "    elements = data.split('\\t')\n",
        "    labels.append(elements[-1])\n",
        "    X.append(elements[1:-1])\n",
        "    nodes.append(elements[0])\n",
        "\n",
        "X = np.array(X,dtype=int)\n",
        "N = X.shape[0] #the number of nodes\n",
        "F = X.shape[1] #the size of node features\n",
        "print('X shape: ', X.shape)\n",
        "\n",
        "\n",
        "#parse the edge\n",
        "edge_list=[]\n",
        "for edge in all_edges:\n",
        "    e = edge.split('\\t')\n",
        "    edge_list.append((e[0],e[1]))\n",
        "\n",
        "print('\\nNumber of nodes (N): ', N)\n",
        "print('\\nNumber of features (F) of each node: ', F)\n",
        "print('\\nCategories: ', set(labels))\n",
        "\n",
        "num_classes = len(set(labels))\n",
        "print('\\nNumber of classes: ', num_classes)"
      ],
      "metadata": {
        "colab": {
          "base_uri": "https://localhost:8080/"
        },
        "id": "6olXI5mMgRUE",
        "outputId": "a5dfd6ac-b18e-409c-9cb4-44d4a187a309"
      },
      "execution_count": 5,
      "outputs": [
        {
          "output_type": "stream",
          "name": "stdout",
          "text": [
            "X shape:  (2708, 1433)\n",
            "\n",
            "Number of nodes (N):  2708\n",
            "\n",
            "Number of features (F) of each node:  1433\n",
            "\n",
            "Categories:  {'Reinforcement_Learning', 'Case_Based', 'Neural_Networks', 'Genetic_Algorithms', 'Probabilistic_Methods', 'Rule_Learning', 'Theory'}\n",
            "\n",
            "Number of classes:  7\n"
          ]
        }
      ]
    },
    {
      "cell_type": "markdown",
      "source": [
        "#Data splitting"
      ],
      "metadata": {
        "id": "8dNvIFr1ghEy"
      }
    },
    {
      "cell_type": "code",
      "source": [
        "def limit_data(labels,limit=20,val_num=500,test_num=1000):\n",
        "    label_counter = dict((l, 0) for l in labels)\n",
        "    train_idx = []\n",
        "\n",
        "    for i in range(len(labels)):\n",
        "        label = labels[i]\n",
        "        if label_counter[label]<limit:\n",
        "            #add the example to the training data\n",
        "            train_idx.append(i)\n",
        "            label_counter[label]+=1\n",
        "        \n",
        "        #exit the loop once we found 20 examples for each class\n",
        "        if all(count == limit for count in label_counter.values()):\n",
        "            break\n",
        "    \n",
        "    #get the indices that do not go to traning data\n",
        "    rest_idx = [x for x in range(len(labels)) if x not in train_idx]\n",
        "    #get the first val_num\n",
        "    val_idx = rest_idx[:val_num]\n",
        "    test_idx = rest_idx[val_num:(val_num+test_num)]\n",
        "    return train_idx, val_idx,test_idx\n",
        "\n",
        "\n",
        "train_idx,val_idx,test_idx = limit_data(labels)"
      ],
      "metadata": {
        "id": "LedVmp5AgjS3"
      },
      "execution_count": 6,
      "outputs": []
    },
    {
      "cell_type": "code",
      "source": [
        "#set the mask\n",
        "train_mask = np.zeros((N,),dtype=bool)\n",
        "train_mask[train_idx] = True\n",
        "\n",
        "val_mask = np.zeros((N,),dtype=bool)\n",
        "val_mask[val_idx] = True\n",
        "\n",
        "test_mask = np.zeros((N,),dtype=bool)\n",
        "test_mask[test_idx] = True"
      ],
      "metadata": {
        "id": "IlW7j86dgogI"
      },
      "execution_count": 7,
      "outputs": []
    },
    {
      "cell_type": "code",
      "source": [
        ""
      ],
      "metadata": {
        "id": "AsP7rBfAgsEg"
      },
      "execution_count": 7,
      "outputs": []
    },
    {
      "cell_type": "markdown",
      "source": [
        "# One hot Encoding"
      ],
      "metadata": {
        "id": "8vbF27WHgsg2"
      }
    },
    {
      "cell_type": "code",
      "source": [
        "def encode_label(labels):\n",
        "    label_encoder = LabelEncoder()\n",
        "    labels = label_encoder.fit_transform(labels)\n",
        "    labels = to_categorical(labels)\n",
        "    return labels, label_encoder.classes_\n",
        "\n",
        "labels_encoded, classes = encode_label(labels)"
      ],
      "metadata": {
        "id": "Yv3SC-Yhgx3o"
      },
      "execution_count": 8,
      "outputs": []
    },
    {
      "cell_type": "code",
      "source": [
        ""
      ],
      "metadata": {
        "id": "hxGb056Wg39p"
      },
      "execution_count": 8,
      "outputs": []
    },
    {
      "cell_type": "markdown",
      "source": [
        "# Building Graph on NetworkX"
      ],
      "metadata": {
        "id": "OW6XZmbQg-PF"
      }
    },
    {
      "cell_type": "code",
      "source": [
        "G = nx.Graph()\n",
        "G.add_nodes_from(nodes)\n",
        "G.add_edges_from(edge_list)\n",
        "\n",
        "#obtain the adjacency matrix (A)\n",
        "A = nx.adjacency_matrix(G)\n",
        "print('Graph info: ', nx.info(G))"
      ],
      "metadata": {
        "colab": {
          "base_uri": "https://localhost:8080/"
        },
        "id": "ftCgPaRnhBCz",
        "outputId": "9ee9f0eb-4258-4a4d-bdbc-84d3fd13376e"
      },
      "execution_count": 9,
      "outputs": [
        {
          "output_type": "stream",
          "name": "stdout",
          "text": [
            "Graph info:  Graph with 2708 nodes and 5278 edges\n"
          ]
        }
      ]
    },
    {
      "cell_type": "code",
      "source": [
        ""
      ],
      "metadata": {
        "id": "hvqDInOqhBcx"
      },
      "execution_count": 9,
      "outputs": []
    },
    {
      "cell_type": "markdown",
      "source": [
        "# Building and Traing GCN"
      ],
      "metadata": {
        "id": "uCNcwhCLhGZc"
      }
    },
    {
      "cell_type": "code",
      "source": [
        "# Parameters\n",
        "channels = 16           # Number of channels in the first layer\n",
        "dropout = 0.5           # Dropout rate for the features\n",
        "l2_reg = 5e-4           # L2 regularization rate\n",
        "learning_rate = 1e-2    # Learning rate\n",
        "epochs = 100           # Number of training epochs\n",
        "es_patience = 10        # Patience for early stopping\n",
        "\n",
        "# Preprocessing operations\n",
        "A = GraphConv.preprocess(A).astype('f4')\n",
        "\n",
        "# Model definition\n",
        "X_in = Input(shape=(F, ))\n",
        "fltr_in = Input((N, ), sparse=True)\n",
        "\n",
        "dropout_1 = Dropout(dropout)(X_in)\n",
        "graph_conv_1 = GraphConv(channels,\n",
        "                         activation='relu',\n",
        "                         kernel_regularizer=l2(l2_reg),\n",
        "                         use_bias=False)([dropout_1, fltr_in])\n",
        "\n",
        "dropout_2 = Dropout(dropout)(graph_conv_1)\n",
        "graph_conv_2 = GraphConv(num_classes,\n",
        "                         activation='softmax',\n",
        "                         use_bias=False)([dropout_2, fltr_in])\n",
        "\n",
        "# Build model\n",
        "model = Model(inputs=[X_in, fltr_in], outputs=graph_conv_2)\n",
        "optimizer = Adam(lr=learning_rate)\n",
        "model.compile(optimizer=optimizer,\n",
        "              loss='categorical_crossentropy',\n",
        "              weighted_metrics=['acc'])"
      ],
      "metadata": {
        "id": "VjHYj0cMhIhj"
      },
      "execution_count": 10,
      "outputs": []
    },
    {
      "cell_type": "code",
      "source": [
        "model.summary()"
      ],
      "metadata": {
        "colab": {
          "base_uri": "https://localhost:8080/"
        },
        "id": "XWSKjwFXhNuS",
        "outputId": "f0a4b0a2-5aa4-4f26-ef00-b520c2435da6"
      },
      "execution_count": 11,
      "outputs": [
        {
          "output_type": "stream",
          "name": "stdout",
          "text": [
            "Model: \"functional_1\"\n",
            "__________________________________________________________________________________________________\n",
            "Layer (type)                    Output Shape         Param #     Connected to                     \n",
            "==================================================================================================\n",
            "input_1 (InputLayer)            [(None, 1433)]       0                                            \n",
            "__________________________________________________________________________________________________\n",
            "dropout (Dropout)               (None, 1433)         0           input_1[0][0]                    \n",
            "__________________________________________________________________________________________________\n",
            "input_2 (InputLayer)            [(None, 2708)]       0                                            \n",
            "__________________________________________________________________________________________________\n",
            "graph_conv (GraphConv)          (None, 16)           22928       dropout[0][0]                    \n",
            "                                                                 input_2[0][0]                    \n",
            "__________________________________________________________________________________________________\n",
            "dropout_1 (Dropout)             (None, 16)           0           graph_conv[0][0]                 \n",
            "__________________________________________________________________________________________________\n",
            "graph_conv_1 (GraphConv)        (None, 7)            112         dropout_1[0][0]                  \n",
            "                                                                 input_2[0][0]                    \n",
            "==================================================================================================\n",
            "Total params: 23,040\n",
            "Trainable params: 23,040\n",
            "Non-trainable params: 0\n",
            "__________________________________________________________________________________________________\n"
          ]
        }
      ]
    },
    {
      "cell_type": "code",
      "source": [
        "# Train model\n",
        "validation_data = ([X, A], labels_encoded, val_mask)\n",
        "model.fit([X, A],\n",
        "          labels_encoded,\n",
        "          sample_weight=train_mask,\n",
        "          epochs=epochs,\n",
        "          batch_size=N,\n",
        "          validation_data=validation_data,\n",
        "          shuffle=False,\n",
        "          callbacks=[\n",
        "              EarlyStopping(patience=es_patience,  restore_best_weights=True),\n",
        "          ])"
      ],
      "metadata": {
        "colab": {
          "base_uri": "https://localhost:8080/"
        },
        "id": "vpj1xHXNhOV4",
        "outputId": "cb1b19fb-9a20-4197-ffbc-6f8e7b4924a9"
      },
      "execution_count": 12,
      "outputs": [
        {
          "output_type": "stream",
          "name": "stdout",
          "text": [
            "Epoch 1/100\n",
            "1/1 [==============================] - 0s 482ms/step - loss: 0.1166 - acc: 0.1286 - val_loss: 0.3683 - val_acc: 0.1920\n",
            "Epoch 2/100\n",
            "1/1 [==============================] - 0s 82ms/step - loss: 0.1099 - acc: 0.3071 - val_loss: 0.3586 - val_acc: 0.3300\n",
            "Epoch 3/100\n",
            "1/1 [==============================] - 0s 75ms/step - loss: 0.1034 - acc: 0.4500 - val_loss: 0.3496 - val_acc: 0.3900\n",
            "Epoch 4/100\n",
            "1/1 [==============================] - 0s 80ms/step - loss: 0.0985 - acc: 0.5786 - val_loss: 0.3413 - val_acc: 0.3760\n",
            "Epoch 5/100\n",
            "1/1 [==============================] - 0s 75ms/step - loss: 0.0931 - acc: 0.5714 - val_loss: 0.3341 - val_acc: 0.3800\n",
            "Epoch 6/100\n",
            "1/1 [==============================] - 0s 126ms/step - loss: 0.0887 - acc: 0.6357 - val_loss: 0.3275 - val_acc: 0.3740\n",
            "Epoch 7/100\n",
            "1/1 [==============================] - 0s 116ms/step - loss: 0.0840 - acc: 0.6571 - val_loss: 0.3221 - val_acc: 0.3880\n",
            "Epoch 8/100\n",
            "1/1 [==============================] - 0s 119ms/step - loss: 0.0807 - acc: 0.7143 - val_loss: 0.3176 - val_acc: 0.4340\n",
            "Epoch 9/100\n",
            "1/1 [==============================] - 0s 113ms/step - loss: 0.0802 - acc: 0.6857 - val_loss: 0.3123 - val_acc: 0.4900\n",
            "Epoch 10/100\n",
            "1/1 [==============================] - 0s 139ms/step - loss: 0.0779 - acc: 0.7286 - val_loss: 0.3054 - val_acc: 0.5580\n",
            "Epoch 11/100\n",
            "1/1 [==============================] - 0s 119ms/step - loss: 0.0765 - acc: 0.7714 - val_loss: 0.2975 - val_acc: 0.6120\n",
            "Epoch 12/100\n",
            "1/1 [==============================] - 0s 113ms/step - loss: 0.0724 - acc: 0.8643 - val_loss: 0.2890 - val_acc: 0.6500\n",
            "Epoch 13/100\n",
            "1/1 [==============================] - 0s 115ms/step - loss: 0.0726 - acc: 0.8214 - val_loss: 0.2806 - val_acc: 0.6820\n",
            "Epoch 14/100\n",
            "1/1 [==============================] - 0s 124ms/step - loss: 0.0702 - acc: 0.8857 - val_loss: 0.2724 - val_acc: 0.7040\n",
            "Epoch 15/100\n",
            "1/1 [==============================] - 0s 123ms/step - loss: 0.0680 - acc: 0.9071 - val_loss: 0.2646 - val_acc: 0.7260\n",
            "Epoch 16/100\n",
            "1/1 [==============================] - 0s 136ms/step - loss: 0.0675 - acc: 0.8857 - val_loss: 0.2577 - val_acc: 0.7400\n",
            "Epoch 17/100\n",
            "1/1 [==============================] - 0s 129ms/step - loss: 0.0641 - acc: 0.9143 - val_loss: 0.2513 - val_acc: 0.7460\n",
            "Epoch 18/100\n",
            "1/1 [==============================] - 0s 164ms/step - loss: 0.0638 - acc: 0.8857 - val_loss: 0.2451 - val_acc: 0.7480\n",
            "Epoch 19/100\n",
            "1/1 [==============================] - 0s 168ms/step - loss: 0.0619 - acc: 0.9500 - val_loss: 0.2396 - val_acc: 0.7480\n",
            "Epoch 20/100\n",
            "1/1 [==============================] - 0s 114ms/step - loss: 0.0613 - acc: 0.9357 - val_loss: 0.2350 - val_acc: 0.7500\n",
            "Epoch 21/100\n",
            "1/1 [==============================] - 0s 141ms/step - loss: 0.0604 - acc: 0.8857 - val_loss: 0.2312 - val_acc: 0.7500\n",
            "Epoch 22/100\n",
            "1/1 [==============================] - 0s 109ms/step - loss: 0.0601 - acc: 0.8786 - val_loss: 0.2279 - val_acc: 0.7460\n",
            "Epoch 23/100\n",
            "1/1 [==============================] - 0s 147ms/step - loss: 0.0556 - acc: 0.9143 - val_loss: 0.2244 - val_acc: 0.7440\n",
            "Epoch 24/100\n",
            "1/1 [==============================] - 0s 175ms/step - loss: 0.0568 - acc: 0.9286 - val_loss: 0.2209 - val_acc: 0.7480\n",
            "Epoch 25/100\n",
            "1/1 [==============================] - 0s 174ms/step - loss: 0.0535 - acc: 0.9429 - val_loss: 0.2171 - val_acc: 0.7480\n",
            "Epoch 26/100\n",
            "1/1 [==============================] - 0s 202ms/step - loss: 0.0557 - acc: 0.8857 - val_loss: 0.2132 - val_acc: 0.7520\n",
            "Epoch 27/100\n",
            "1/1 [==============================] - 0s 156ms/step - loss: 0.0534 - acc: 0.9143 - val_loss: 0.2098 - val_acc: 0.7540\n",
            "Epoch 28/100\n",
            "1/1 [==============================] - 0s 183ms/step - loss: 0.0508 - acc: 0.9143 - val_loss: 0.2067 - val_acc: 0.7580\n",
            "Epoch 29/100\n",
            "1/1 [==============================] - 0s 140ms/step - loss: 0.0509 - acc: 0.9500 - val_loss: 0.2036 - val_acc: 0.7580\n",
            "Epoch 30/100\n",
            "1/1 [==============================] - 0s 117ms/step - loss: 0.0521 - acc: 0.9143 - val_loss: 0.2008 - val_acc: 0.7660\n",
            "Epoch 31/100\n",
            "1/1 [==============================] - 0s 143ms/step - loss: 0.0466 - acc: 0.9857 - val_loss: 0.1985 - val_acc: 0.7680\n",
            "Epoch 32/100\n",
            "1/1 [==============================] - 0s 142ms/step - loss: 0.0483 - acc: 0.9357 - val_loss: 0.1970 - val_acc: 0.7660\n",
            "Epoch 33/100\n",
            "1/1 [==============================] - 0s 123ms/step - loss: 0.0473 - acc: 0.9500 - val_loss: 0.1953 - val_acc: 0.7640\n",
            "Epoch 34/100\n",
            "1/1 [==============================] - 0s 142ms/step - loss: 0.0457 - acc: 0.9429 - val_loss: 0.1937 - val_acc: 0.7620\n",
            "Epoch 35/100\n",
            "1/1 [==============================] - 0s 155ms/step - loss: 0.0452 - acc: 0.9429 - val_loss: 0.1916 - val_acc: 0.7620\n",
            "Epoch 36/100\n",
            "1/1 [==============================] - 0s 145ms/step - loss: 0.0464 - acc: 0.9500 - val_loss: 0.1892 - val_acc: 0.7680\n",
            "Epoch 37/100\n",
            "1/1 [==============================] - 0s 179ms/step - loss: 0.0499 - acc: 0.9143 - val_loss: 0.1872 - val_acc: 0.7740\n",
            "Epoch 38/100\n",
            "1/1 [==============================] - 0s 181ms/step - loss: 0.0463 - acc: 0.9357 - val_loss: 0.1850 - val_acc: 0.7800\n",
            "Epoch 39/100\n",
            "1/1 [==============================] - 0s 145ms/step - loss: 0.0481 - acc: 0.9143 - val_loss: 0.1822 - val_acc: 0.7900\n",
            "Epoch 40/100\n",
            "1/1 [==============================] - 0s 141ms/step - loss: 0.0438 - acc: 0.9429 - val_loss: 0.1795 - val_acc: 0.7900\n",
            "Epoch 41/100\n",
            "1/1 [==============================] - 0s 191ms/step - loss: 0.0458 - acc: 0.9500 - val_loss: 0.1776 - val_acc: 0.7960\n",
            "Epoch 42/100\n",
            "1/1 [==============================] - 0s 127ms/step - loss: 0.0456 - acc: 0.9429 - val_loss: 0.1763 - val_acc: 0.7980\n",
            "Epoch 43/100\n",
            "1/1 [==============================] - 0s 143ms/step - loss: 0.0424 - acc: 0.9500 - val_loss: 0.1759 - val_acc: 0.7960\n",
            "Epoch 44/100\n",
            "1/1 [==============================] - 0s 111ms/step - loss: 0.0431 - acc: 0.9143 - val_loss: 0.1764 - val_acc: 0.7880\n",
            "Epoch 45/100\n",
            "1/1 [==============================] - 0s 114ms/step - loss: 0.0437 - acc: 0.9143 - val_loss: 0.1766 - val_acc: 0.7800\n",
            "Epoch 46/100\n",
            "1/1 [==============================] - 0s 141ms/step - loss: 0.0443 - acc: 0.9000 - val_loss: 0.1775 - val_acc: 0.7780\n",
            "Epoch 47/100\n",
            "1/1 [==============================] - 0s 111ms/step - loss: 0.0440 - acc: 0.9429 - val_loss: 0.1779 - val_acc: 0.7800\n",
            "Epoch 48/100\n",
            "1/1 [==============================] - 0s 152ms/step - loss: 0.0421 - acc: 0.9571 - val_loss: 0.1774 - val_acc: 0.7780\n",
            "Epoch 49/100\n",
            "1/1 [==============================] - 0s 174ms/step - loss: 0.0381 - acc: 0.9643 - val_loss: 0.1764 - val_acc: 0.7780\n",
            "Epoch 50/100\n",
            "1/1 [==============================] - 0s 239ms/step - loss: 0.0403 - acc: 0.9429 - val_loss: 0.1744 - val_acc: 0.7820\n",
            "Epoch 51/100\n",
            "1/1 [==============================] - 0s 132ms/step - loss: 0.0411 - acc: 0.9500 - val_loss: 0.1721 - val_acc: 0.7820\n",
            "Epoch 52/100\n",
            "1/1 [==============================] - 0s 140ms/step - loss: 0.0425 - acc: 0.9286 - val_loss: 0.1701 - val_acc: 0.7820\n",
            "Epoch 53/100\n",
            "1/1 [==============================] - 0s 114ms/step - loss: 0.0400 - acc: 0.9643 - val_loss: 0.1682 - val_acc: 0.7900\n",
            "Epoch 54/100\n",
            "1/1 [==============================] - 0s 130ms/step - loss: 0.0371 - acc: 0.9714 - val_loss: 0.1668 - val_acc: 0.7900\n",
            "Epoch 55/100\n",
            "1/1 [==============================] - 0s 163ms/step - loss: 0.0374 - acc: 0.9786 - val_loss: 0.1658 - val_acc: 0.7920\n",
            "Epoch 56/100\n",
            "1/1 [==============================] - 0s 110ms/step - loss: 0.0381 - acc: 0.9571 - val_loss: 0.1652 - val_acc: 0.7920\n",
            "Epoch 57/100\n",
            "1/1 [==============================] - 0s 114ms/step - loss: 0.0371 - acc: 0.9571 - val_loss: 0.1649 - val_acc: 0.7900\n",
            "Epoch 58/100\n",
            "1/1 [==============================] - 0s 176ms/step - loss: 0.0367 - acc: 0.9786 - val_loss: 0.1648 - val_acc: 0.7940\n",
            "Epoch 59/100\n",
            "1/1 [==============================] - 0s 131ms/step - loss: 0.0381 - acc: 0.9571 - val_loss: 0.1647 - val_acc: 0.7900\n",
            "Epoch 60/100\n",
            "1/1 [==============================] - 0s 216ms/step - loss: 0.0380 - acc: 0.9429 - val_loss: 0.1663 - val_acc: 0.7820\n",
            "Epoch 61/100\n",
            "1/1 [==============================] - 0s 160ms/step - loss: 0.0346 - acc: 0.9643 - val_loss: 0.1671 - val_acc: 0.7760\n",
            "Epoch 62/100\n",
            "1/1 [==============================] - 0s 120ms/step - loss: 0.0368 - acc: 0.9643 - val_loss: 0.1682 - val_acc: 0.7700\n",
            "Epoch 63/100\n",
            "1/1 [==============================] - 0s 137ms/step - loss: 0.0390 - acc: 0.9571 - val_loss: 0.1682 - val_acc: 0.7740\n",
            "Epoch 64/100\n",
            "1/1 [==============================] - 0s 126ms/step - loss: 0.0354 - acc: 0.9500 - val_loss: 0.1677 - val_acc: 0.7740\n",
            "Epoch 65/100\n",
            "1/1 [==============================] - 0s 140ms/step - loss: 0.0354 - acc: 0.9643 - val_loss: 0.1668 - val_acc: 0.7720\n",
            "Epoch 66/100\n",
            "1/1 [==============================] - 0s 126ms/step - loss: 0.0373 - acc: 0.9429 - val_loss: 0.1652 - val_acc: 0.7760\n",
            "Epoch 67/100\n",
            "1/1 [==============================] - 0s 215ms/step - loss: 0.0320 - acc: 0.9786 - val_loss: 0.1637 - val_acc: 0.7800\n",
            "Epoch 68/100\n",
            "1/1 [==============================] - 0s 138ms/step - loss: 0.0341 - acc: 0.9500 - val_loss: 0.1612 - val_acc: 0.7740\n",
            "Epoch 69/100\n",
            "1/1 [==============================] - 0s 126ms/step - loss: 0.0360 - acc: 0.9500 - val_loss: 0.1593 - val_acc: 0.7820\n",
            "Epoch 70/100\n",
            "1/1 [==============================] - 0s 145ms/step - loss: 0.0337 - acc: 0.9571 - val_loss: 0.1585 - val_acc: 0.7800\n",
            "Epoch 71/100\n",
            "1/1 [==============================] - 0s 135ms/step - loss: 0.0350 - acc: 0.9500 - val_loss: 0.1578 - val_acc: 0.7780\n",
            "Epoch 72/100\n",
            "1/1 [==============================] - 0s 160ms/step - loss: 0.0368 - acc: 0.9500 - val_loss: 0.1572 - val_acc: 0.7780\n",
            "Epoch 73/100\n",
            "1/1 [==============================] - 0s 125ms/step - loss: 0.0339 - acc: 0.9643 - val_loss: 0.1567 - val_acc: 0.7840\n",
            "Epoch 74/100\n",
            "1/1 [==============================] - 0s 141ms/step - loss: 0.0359 - acc: 0.9357 - val_loss: 0.1562 - val_acc: 0.7880\n",
            "Epoch 75/100\n",
            "1/1 [==============================] - 0s 119ms/step - loss: 0.0346 - acc: 0.9786 - val_loss: 0.1554 - val_acc: 0.7980\n",
            "Epoch 76/100\n",
            "1/1 [==============================] - 0s 118ms/step - loss: 0.0319 - acc: 0.9643 - val_loss: 0.1551 - val_acc: 0.8000\n",
            "Epoch 77/100\n",
            "1/1 [==============================] - 0s 214ms/step - loss: 0.0327 - acc: 0.9714 - val_loss: 0.1558 - val_acc: 0.8000\n",
            "Epoch 78/100\n",
            "1/1 [==============================] - 0s 145ms/step - loss: 0.0322 - acc: 0.9714 - val_loss: 0.1566 - val_acc: 0.8000\n",
            "Epoch 79/100\n",
            "1/1 [==============================] - 0s 111ms/step - loss: 0.0357 - acc: 0.9643 - val_loss: 0.1589 - val_acc: 0.7860\n",
            "Epoch 80/100\n",
            "1/1 [==============================] - 0s 116ms/step - loss: 0.0336 - acc: 0.9786 - val_loss: 0.1609 - val_acc: 0.7880\n",
            "Epoch 81/100\n",
            "1/1 [==============================] - 0s 213ms/step - loss: 0.0336 - acc: 0.9571 - val_loss: 0.1625 - val_acc: 0.7820\n",
            "Epoch 82/100\n",
            "1/1 [==============================] - 0s 127ms/step - loss: 0.0339 - acc: 0.9714 - val_loss: 0.1625 - val_acc: 0.7780\n",
            "Epoch 83/100\n",
            "1/1 [==============================] - 0s 208ms/step - loss: 0.0330 - acc: 0.9429 - val_loss: 0.1617 - val_acc: 0.7740\n",
            "Epoch 84/100\n",
            "1/1 [==============================] - 0s 203ms/step - loss: 0.0323 - acc: 0.9786 - val_loss: 0.1616 - val_acc: 0.7720\n",
            "Epoch 85/100\n",
            "1/1 [==============================] - 0s 135ms/step - loss: 0.0320 - acc: 0.9857 - val_loss: 0.1610 - val_acc: 0.7740\n",
            "Epoch 86/100\n",
            "1/1 [==============================] - 0s 128ms/step - loss: 0.0321 - acc: 0.9643 - val_loss: 0.1590 - val_acc: 0.7740\n"
          ]
        },
        {
          "output_type": "execute_result",
          "data": {
            "text/plain": [
              "<tensorflow.python.keras.callbacks.History at 0x7fc2578422d0>"
            ]
          },
          "metadata": {},
          "execution_count": 12
        }
      ]
    },
    {
      "cell_type": "code",
      "source": [
        ""
      ],
      "metadata": {
        "id": "TKeDv7nBhTMM"
      },
      "execution_count": 12,
      "outputs": []
    },
    {
      "cell_type": "markdown",
      "source": [
        "# Model Evaluation"
      ],
      "metadata": {
        "id": "3KA2Wd4MhWti"
      }
    },
    {
      "cell_type": "code",
      "source": [
        "X_te = X[test_mask]\n",
        "A_te = A[test_mask,:][:,test_mask]\n",
        "y_te = labels_encoded[test_mask]\n",
        "\n",
        "y_pred = model.predict([X_te, A_te], batch_size=N)\n",
        "report = classification_report(np.argmax(y_te,axis=1), np.argmax(y_pred,axis=1), target_names=classes)\n",
        "print('GCN Classification Report: \\n {}'.format(report))"
      ],
      "metadata": {
        "colab": {
          "base_uri": "https://localhost:8080/"
        },
        "id": "ztkW3wPVhZch",
        "outputId": "46b10cb1-a579-4d5a-ad75-ba4f32342b47"
      },
      "execution_count": 13,
      "outputs": [
        {
          "output_type": "stream",
          "name": "stdout",
          "text": [
            "GCN Classification Report: \n",
            "                         precision    recall  f1-score   support\n",
            "\n",
            "            Case_Based       0.67      0.78      0.72       114\n",
            "    Genetic_Algorithms       0.86      0.86      0.86       156\n",
            "       Neural_Networks       0.81      0.70      0.75       290\n",
            " Probabilistic_Methods       0.80      0.73      0.77       172\n",
            "Reinforcement_Learning       0.70      0.79      0.74        85\n",
            "         Rule_Learning       0.58      0.78      0.67        60\n",
            "                Theory       0.60      0.62      0.61       123\n",
            "\n",
            "              accuracy                           0.74      1000\n",
            "             macro avg       0.72      0.75      0.73      1000\n",
            "          weighted avg       0.75      0.74      0.74      1000\n",
            "\n"
          ]
        }
      ]
    },
    {
      "cell_type": "code",
      "source": [
        ""
      ],
      "metadata": {
        "id": "-DoSxfkOhcqM"
      },
      "execution_count": 13,
      "outputs": []
    }
  ]
}